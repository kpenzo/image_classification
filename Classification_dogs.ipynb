{
  "cells": [
    {
      "cell_type": "code",
      "execution_count": null,
      "metadata": {
        "id": "Du4mhGDEbgkl"
      },
      "outputs": [],
      "source": [
        "!nvidia-smi"
      ]
    },
    {
      "cell_type": "markdown",
      "metadata": {
        "id": "A_B2O541dZJf"
      },
      "source": [
        "#### Load data\n"
      ]
    },
    {
      "cell_type": "code",
      "execution_count": null,
      "metadata": {
        "id": "QBbTtySddcnE"
      },
      "outputs": [],
      "source": [
        "!ls '/content/sample_data/'\n",
        "!unzip '/content/sample_data/dogs.zip'"
      ]
    },
    {
      "cell_type": "markdown",
      "metadata": {
        "id": "LxtqEo_3dc9r"
      },
      "source": [
        "#### Visualizing the images with code"
      ]
    },
    {
      "cell_type": "code",
      "execution_count": null,
      "metadata": {
        "id": "0j1IDc6Qdfad"
      },
      "outputs": [],
      "source": [
        "# images/Images/n02116738-African_hunting_dog/n02116738_9924.jpg\n",
        "import cv2\n",
        "import matplotlib.pyplot as plt\n",
        "\n",
        "img = cv2.imread('images/Images/n02116738-African_hunting_dog/n02116738_9798.jpg')\n",
        "# BGR - RGB\n",
        "img = cv2.cvtColor(img, cv2.COLOR_BGR2RGB)\n",
        "plt.imshow(img)"
      ]
    },
    {
      "cell_type": "code",
      "execution_count": null,
      "metadata": {
        "id": "tv-dU_GrjDqE"
      },
      "outputs": [],
      "source": [
        "print(img.shape)"
      ]
    },
    {
      "cell_type": "code",
      "execution_count": null,
      "metadata": {
        "id": "xZ7V0RLaizbW"
      },
      "outputs": [],
      "source": [
        "print(img)"
      ]
    },
    {
      "cell_type": "code",
      "execution_count": null,
      "metadata": {
        "id": "hdoo0M8ad_9F"
      },
      "outputs": [],
      "source": [
        "#Loading a VGG16 pretrained and making inference.\n",
        "from tensorflow.keras.applications import VGG16"
      ]
    },
    {
      "cell_type": "code",
      "execution_count": null,
      "metadata": {
        "id": "6xGMQvqHlk6q"
      },
      "outputs": [],
      "source": [
        "modelo_VGG16 = VGG16() # Pretrained from ImageNet"
      ]
    },
    {
      "cell_type": "code",
      "execution_count": null,
      "metadata": {
        "id": "pOeoFb-wlrPz"
      },
      "outputs": [],
      "source": [
        "modelo_VGG16.summary()"
      ]
    },
    {
      "cell_type": "markdown",
      "metadata": {
        "id": "VLy4In6WgfsT"
      },
      "source": [
        "##### Making predictions over the pretrained model with one of the images"
      ]
    },
    {
      "cell_type": "code",
      "execution_count": null,
      "metadata": {
        "id": "s3askyH5r1-e"
      },
      "outputs": [],
      "source": [
        "img = cv2.resize(img, (224, 224))"
      ]
    },
    {
      "cell_type": "code",
      "execution_count": null,
      "metadata": {
        "id": "W3PMO4Y2q_aJ"
      },
      "outputs": [],
      "source": [
        "import numpy as np\n",
        "#image_batch = np.stack(img, axis=0)\n",
        "image_batch_manual = np.array(img)\n",
        "image_batch_manual = image_batch_manual[np.newaxis, :, ...]"
      ]
    },
    {
      "cell_type": "code",
      "execution_count": null,
      "metadata": {
        "id": "xfqyHQlWrDh_"
      },
      "outputs": [],
      "source": [
        "image_batch_manual.shape"
      ]
    },
    {
      "cell_type": "code",
      "execution_count": null,
      "metadata": {
        "id": "vUdNvWEzl89V"
      },
      "outputs": [],
      "source": [
        "prediction = modelo_VGG16.predict(image_batch_manual)"
      ]
    },
    {
      "cell_type": "code",
      "execution_count": null,
      "metadata": {
        "id": "B3WIUnHFr9s0"
      },
      "outputs": [],
      "source": [
        "prediction"
      ]
    },
    {
      "cell_type": "code",
      "execution_count": null,
      "metadata": {
        "id": "m-ZzICVgfZbg"
      },
      "outputs": [],
      "source": [
        "prediction_class = np.argmax(prediction, axis=1)"
      ]
    },
    {
      "cell_type": "code",
      "execution_count": null,
      "metadata": {
        "id": "mKrEEbyVfxlm"
      },
      "outputs": [],
      "source": [
        "prediction_class"
      ]
    },
    {
      "cell_type": "markdown",
      "metadata": {
        "id": "1sLwy19MlPSr"
      },
      "source": [
        "#### Fine tuning the VGG16 model"
      ]
    },
    {
      "cell_type": "code",
      "execution_count": null,
      "metadata": {
        "id": "w_1Ju6CZlQ-j"
      },
      "outputs": [],
      "source": [
        "modelo_VGG16 = VGG16(include_top=False, input_shape=(224, 224, 3))"
      ]
    },
    {
      "cell_type": "code",
      "execution_count": null,
      "metadata": {
        "id": "lRV1Fw1GliTy"
      },
      "outputs": [],
      "source": [
        "modelo_VGG16.summary()"
      ]
    },
    {
      "cell_type": "code",
      "execution_count": null,
      "metadata": {
        "id": "6FARia__mNMM"
      },
      "outputs": [],
      "source": [
        "from tensorflow.keras.layers import Flatten, Dense, Dropout"
      ]
    },
    {
      "cell_type": "code",
      "execution_count": null,
      "metadata": {
        "id": "y4HG7df4llmk"
      },
      "outputs": [],
      "source": [
        "# Añadimos capas\n",
        "head_model = modelo_VGG16.output\n",
        "head_model = Flatten()(head_model)\n",
        "head_model = Dense(512, activation='relu')(head_model)\n",
        "head_model = Dropout(0.5)(head_model)\n",
        "head_model = Dense(120, activation='softmax')(head_model)"
      ]
    },
    {
      "cell_type": "code",
      "execution_count": null,
      "metadata": {
        "id": "m355mCoepf8q"
      },
      "outputs": [],
      "source": [
        "from tensorflow.keras.models import Model"
      ]
    },
    {
      "cell_type": "code",
      "execution_count": null,
      "metadata": {
        "id": "rHaG_S4Mo2C9"
      },
      "outputs": [],
      "source": [
        "model = Model(inputs=modelo_VGG16.input, outputs=head_model)"
      ]
    },
    {
      "cell_type": "code",
      "execution_count": null,
      "metadata": {
        "id": "2yHoJ-IjqPh2"
      },
      "outputs": [],
      "source": [
        "print(model.summary())"
      ]
    },
    {
      "cell_type": "markdown",
      "metadata": {
        "id": "-_GpQeUCg75m"
      },
      "source": [
        "#### backbone NO trainable. compile model"
      ]
    },
    {
      "cell_type": "code",
      "execution_count": null,
      "metadata": {
        "id": "4sJSmJ7ShF_z"
      },
      "outputs": [],
      "source": [
        "for layer in modelo_VGG16.layers:\n",
        "  layer.trainable = False"
      ]
    },
    {
      "cell_type": "code",
      "execution_count": null,
      "metadata": {
        "id": "L0GK1oN9mAnM"
      },
      "outputs": [],
      "source": [
        "model = Model(inputs=modelo_VGG16.input, outputs=head_model)"
      ]
    },
    {
      "cell_type": "code",
      "execution_count": null,
      "metadata": {
        "id": "S4YyUQ3Vl7uw"
      },
      "outputs": [],
      "source": [
        "print(model.summary())"
      ]
    },
    {
      "cell_type": "code",
      "execution_count": null,
      "metadata": {
        "id": "drU93dUzmsJW"
      },
      "outputs": [],
      "source": [
        "from tensorflow.keras.optimizers import Adam\n",
        "\n",
        "opt = Adam(learning_rate=0.001)\n",
        "model.compile(optimizer=Adam(),loss=\"categorical_crossentropy\", metrics=['accuracy'])"
      ]
    },
    {
      "cell_type": "markdown",
      "metadata": {
        "id": "5ffTtitUgnjj"
      },
      "source": [
        "#### reading dataset to train it with TensorFlow"
      ]
    },
    {
      "cell_type": "code",
      "execution_count": null,
      "metadata": {
        "id": "Qz8fsH0ghGZR"
      },
      "outputs": [],
      "source": [
        "from tensorflow.keras.preprocessing.image import ImageDataGenerator"
      ]
    },
    {
      "cell_type": "code",
      "execution_count": null,
      "metadata": {
        "id": "mCcpk5weraCL"
      },
      "outputs": [],
      "source": [
        "data_dir = 'images/Images/'\n",
        "datagen = ImageDataGenerator(\n",
        "    rescale=1./255,\n",
        "    validation_split=0.2\n",
        ")"
      ]
    },
    {
      "cell_type": "code",
      "execution_count": null,
      "metadata": {
        "id": "6b9MUifwrmUU"
      },
      "outputs": [],
      "source": [
        "train_generator = datagen.flow_from_directory(\n",
        "    data_dir,\n",
        "    target_size=(224,224),\n",
        "    batch_size=32,\n",
        "    class_mode='categorical',\n",
        "    subset='training'\n",
        ")"
      ]
    },
    {
      "cell_type": "code",
      "execution_count": null,
      "metadata": {
        "id": "JdQGuTyqtHCc"
      },
      "outputs": [],
      "source": [
        "validation_generator = datagen.flow_from_directory(\n",
        "    data_dir,\n",
        "    target_size=(224,224),\n",
        "    batch_size=32,\n",
        "    class_mode='categorical',\n",
        "    subset='validation'\n",
        ")"
      ]
    },
    {
      "cell_type": "markdown",
      "metadata": {
        "id": "s-Z6iKZThFlh"
      },
      "source": [
        "## Training the model"
      ]
    },
    {
      "cell_type": "code",
      "execution_count": null,
      "metadata": {
        "id": "lmE2_aw8qTld"
      },
      "outputs": [],
      "source": [
        "history = model.fit(\n",
        "    train_generator,\n",
        "    epochs=10,\n",
        "    validation_data=validation_generator\n",
        ")"
      ]
    },
    {
      "cell_type": "markdown",
      "metadata": {
        "id": "uYbu27y6hNpM"
      },
      "source": [
        "#### Checking model results"
      ]
    },
    {
      "cell_type": "code",
      "execution_count": null,
      "metadata": {
        "id": "uLuBCHlShPwK"
      },
      "outputs": [],
      "source": [
        "plt.plot(history.history['accuracy'])\n",
        "plt.plot(history.history['val_accuracy'])\n",
        "plt.title('Model accuracy')\n",
        "plt.ylabel('accuracy')\n",
        "plt.xlabel('epoch')\n",
        "plt.legend(['train', 'val'], loc='upper left')\n",
        "plt.show()"
      ]
    },
    {
      "cell_type": "code",
      "execution_count": null,
      "metadata": {
        "id": "h4JiKeFexxq6"
      },
      "outputs": [],
      "source": [
        "plt.plot(history.history['loss'])\n",
        "plt.plot(history.history['val_loss'])\n",
        "plt.title('Model loss')\n",
        "plt.ylabel('loss')\n",
        "plt.xlabel('epoch')\n",
        "plt.legend(['train', 'val'], loc='upper left')\n",
        "plt.show()"
      ]
    },
    {
      "cell_type": "markdown",
      "metadata": {
        "id": "xuJatJEX-fKY"
      },
      "source": [
        "#### Increasing data"
      ]
    },
    {
      "cell_type": "markdown",
      "metadata": {
        "id": "4I63eCYB_X5e"
      },
      "source": [
        "#### Callbacks"
      ]
    },
    {
      "cell_type": "code",
      "execution_count": null,
      "metadata": {
        "id": "Qk7ZIAD-yT8k"
      },
      "outputs": [],
      "source": [
        "from tensorflow.keras.callbacks import TensorBoard, ModelCheckpoint, EarlyStopping\n",
        "import datetime"
      ]
    },
    {
      "cell_type": "code",
      "execution_count": null,
      "metadata": {
        "id": "PyMcITOQyK7h"
      },
      "outputs": [],
      "source": [
        "#callback Tensorboard\n",
        "tensorboard_callback = TensorBoard(log_dir='logs/fit/'+datetime.datetime.now().strftime('%Y%m%d-%H%M%S'), histogram_freq=1)\n",
        "modelcheckpoint_callback = ModelCheckpoint(filepath='model_checkpoint.h5', save_best_only=True, verbose=1)\n",
        "earlystopping_callback = EarlyStopping(patience=5)"
      ]
    },
    {
      "cell_type": "code",
      "execution_count": null,
      "metadata": {
        "id": "MH2T4kCnlc39"
      },
      "outputs": [],
      "source": [
        "!pip install albumentations"
      ]
    },
    {
      "cell_type": "code",
      "execution_count": null,
      "metadata": {
        "id": "pYk_Dr9DmAZ5"
      },
      "outputs": [],
      "source": [
        "import albumentations as A\n",
        "\n",
        "augmentations = A.Compose([\n",
        "    A.HorizontalFlip(p=0.5),\n",
        "    A.Rotate(limit=30, p=0.5),\n",
        "    A.RandomBrightnessContrast(p=0.5)\n",
        "])"
      ]
    },
    {
      "cell_type": "code",
      "execution_count": null,
      "metadata": {
        "id": "GWmcshlAoHtF"
      },
      "outputs": [],
      "source": [
        "def apply_augmentations(image):\n",
        "  augmented = augmentations(image=image)\n",
        "  return augmented['image']"
      ]
    },
    {
      "cell_type": "code",
      "execution_count": null,
      "metadata": {
        "id": "ih8QjOzqn9rI"
      },
      "outputs": [],
      "source": [
        "data_dir = 'images/Images/'\n",
        "datagen = ImageDataGenerator(\n",
        "    rescale=1./255,\n",
        "    validation_split=0.2,\n",
        "    preprocessing_function=apply_augmentations\n",
        ")"
      ]
    },
    {
      "cell_type": "code",
      "execution_count": null,
      "metadata": {
        "id": "OTTXqSmjo10_"
      },
      "outputs": [],
      "source": [
        "train_generator = datagen.flow_from_directory(\n",
        "    data_dir,\n",
        "    target_size=(224,224),\n",
        "    batch_size=32,\n",
        "    class_mode='categorical',\n",
        "    subset='training'\n",
        ")\n",
        "validation_generator = datagen.flow_from_directory(\n",
        "    data_dir,\n",
        "    target_size=(224,224),\n",
        "    batch_size=32,\n",
        "    class_mode='categorical',\n",
        "    subset='validation'\n",
        ")"
      ]
    },
    {
      "cell_type": "code",
      "execution_count": null,
      "metadata": {
        "colab": {
          "background_save": true
        },
        "id": "zA7LEEFYyEi7"
      },
      "outputs": [],
      "source": [
        "history = model.fit(\n",
        "    train_generator,\n",
        "    epochs=10,\n",
        "    validation_data=validation_generator,\n",
        "    callbacks=[tensorboard_callback, modelcheckpoint_callback, earlystopping_callback]\n",
        ")"
      ]
    },
    {
      "cell_type": "markdown",
      "source": [
        "#### Checking options to enhance model"
      ],
      "metadata": {
        "id": "zNfiA8vgIU9v"
      }
    },
    {
      "cell_type": "code",
      "source": [
        "'''\n",
        "Opciones para mejorar los resultados:\n",
        "1. Cambiar la arquitectura de red a una más actual (por ejemplo una Efficientnet).\n",
        "2. Cambiar las capas de fine-tuning (por ejemplo, añadir Dropout).\n",
        "3. Añadir más épocas.\n",
        "4. Cambiar learning rate. (Ajuste de hiperparámetros).\n",
        "5. Ajustar el data augmentation.\n",
        "\n",
        "DATOS:\n",
        "6. Revisar que los datos estén bien.\n",
        "7. Leer solo determinadas clases del modelo.\n",
        "8. Revisar balanceo de los datos.\n",
        "'''"
      ],
      "metadata": {
        "id": "eWP2kXRzBACs"
      },
      "execution_count": null,
      "outputs": []
    },
    {
      "cell_type": "markdown",
      "source": [
        "#### After reviewing options, reading only 2 clases to train the model with fewer data"
      ],
      "metadata": {
        "id": "btj_hg_iIZHS"
      }
    },
    {
      "cell_type": "code",
      "source": [
        "# Leemos solo 2 clases\n",
        "train_generator = datagen.flow_from_directory(\n",
        "    data_dir,\n",
        "    target_size=(224,224),\n",
        "    batch_size=32,\n",
        "    class_mode='categorical',\n",
        "    subset='training',\n",
        "    classes=['n02085620-Chihuahua','n02085782-Japanese_spaniel']\n",
        ")\n",
        "validation_generator = datagen.flow_from_directory(\n",
        "    data_dir,\n",
        "    target_size=(224,224),\n",
        "    batch_size=32,\n",
        "    class_mode='categorical',\n",
        "    subset='validation',\n",
        "    classes=['n02085620-Chihuahua','n02085782-Japanese_spaniel']\n",
        ")"
      ],
      "metadata": {
        "id": "GMmv_4zyHruf"
      },
      "execution_count": null,
      "outputs": []
    },
    {
      "cell_type": "code",
      "source": [
        "modelo_VGG16 = VGG16(include_top=False, input_shape=(224, 224, 3))"
      ],
      "metadata": {
        "id": "xdgw10VOI0jQ"
      },
      "execution_count": null,
      "outputs": []
    },
    {
      "cell_type": "code",
      "source": [
        "# Añadimos capas\n",
        "head_model = modelo_VGG16.output\n",
        "head_model = Flatten()(head_model)\n",
        "head_model = Dense(512, activation='relu')(head_model)\n",
        "#head_model = Dropout(0.5)(head_model)\n",
        "head_model = Dense(2, activation='softmax')(head_model)"
      ],
      "metadata": {
        "id": "nNFUe1BpIkUg"
      },
      "execution_count": null,
      "outputs": []
    },
    {
      "cell_type": "code",
      "source": [
        "model = Model(inputs=modelo_VGG16.input, outputs=head_model)"
      ],
      "metadata": {
        "id": "JuzVLVkXIuDr"
      },
      "execution_count": null,
      "outputs": []
    },
    {
      "cell_type": "code",
      "source": [
        "for layer in modelo_VGG16.layers:\n",
        "  layer.trainable = False"
      ],
      "metadata": {
        "id": "Nt60gAQ6I8ya"
      },
      "execution_count": null,
      "outputs": []
    },
    {
      "cell_type": "code",
      "source": [
        "model.summary()"
      ],
      "metadata": {
        "id": "GXUJPk_GJFOn"
      },
      "execution_count": null,
      "outputs": []
    },
    {
      "cell_type": "code",
      "source": [
        "opt = Adam(learning_rate=0.001)\n",
        "model.compile(optimizer=Adam(),loss=\"categorical_crossentropy\", metrics=['accuracy'])"
      ],
      "metadata": {
        "id": "NGW5vn33JTvR"
      },
      "execution_count": null,
      "outputs": []
    },
    {
      "cell_type": "code",
      "source": [
        "history = model.fit(\n",
        "    train_generator,\n",
        "    epochs=10,\n",
        "    validation_data=validation_generator,\n",
        "    callbacks=[tensorboard_callback, modelcheckpoint_callback, earlystopping_callback]\n",
        ")"
      ],
      "metadata": {
        "id": "J4gzNeHRIR51"
      },
      "execution_count": null,
      "outputs": []
    },
    {
      "cell_type": "code",
      "source": [
        "plt.plot(history.history['accuracy'])\n",
        "plt.plot(history.history['val_accuracy'])\n",
        "plt.title('Model accuracy')\n",
        "plt.ylabel('accuracy')\n",
        "plt.xlabel('epoch')\n",
        "plt.legend(['train', 'val'], loc='upper left')\n",
        "plt.show()"
      ],
      "metadata": {
        "colab": {
          "base_uri": "https://localhost:8080/",
          "height": 472
        },
        "id": "9BeylmiPN9Eg",
        "outputId": "5a194684-75f8-40a4-ecc8-7b0807c6df69"
      },
      "execution_count": null,
      "outputs": [
        {
          "output_type": "display_data",
          "data": {
            "text/plain": [
              "<Figure size 640x480 with 1 Axes>"
            ],
            "image/png": "[encoded data removed]"
          },
          "metadata": {}
        }
      ]
    },
    {
      "cell_type": "code",
      "source": [
        "plt.plot(history.history['loss'])\n",
        "plt.plot(history.history['val_loss'])\n",
        "plt.title('Model loss')\n",
        "plt.ylabel('loss')\n",
        "plt.xlabel('epoch')\n",
        "plt.legend(['train', 'val'], loc='upper left')\n",
        "plt.show()"
      ],
      "metadata": {
        "colab": {
          "base_uri": "https://localhost:8080/",
          "height": 472
        },
        "id": "IgLewyFJOAsj",
        "outputId": "20c6efc6-fc27-4692-a8ac-3997181b5821"
      },
      "execution_count": null,
      "outputs": [
        {
          "output_type": "display_data",
          "data": {
            "text/plain": [
              "<Figure size 640x480 with 1 Axes>"
            ],
            "image/png": "[encoded data removed]"
          },
          "metadata": {}
        }
      ]
    },
    {
      "cell_type": "code",
      "source": [
        "predictions = model.predict(validation_generator)"
      ],
      "metadata": {
        "id": "2M3pt44AQHbf"
      },
      "execution_count": null,
      "outputs": []
    },
    {
      "cell_type": "code",
      "source": [
        "predictions"
      ],
      "metadata": {
        "id": "W4d8FDD0QLYv"
      },
      "execution_count": null,
      "outputs": []
    },
    {
      "cell_type": "code",
      "source": [
        "predicted_classes = np.argmax(predictions, axis=1)"
      ],
      "metadata": {
        "id": "364QJK8tQVob"
      },
      "execution_count": null,
      "outputs": []
    },
    {
      "cell_type": "code",
      "source": [
        "predicted_classes"
      ],
      "metadata": {
        "id": "T-rjNMvhRExB"
      },
      "execution_count": null,
      "outputs": []
    },
    {
      "cell_type": "code",
      "source": [
        "validation_generator.classes"
      ],
      "metadata": {
        "id": "k9yQj-13RUZ3"
      },
      "execution_count": null,
      "outputs": []
    },
    {
      "cell_type": "code",
      "source": [
        "from sklearn.metrics import confusion_matrix\n",
        "\n",
        "cm = confusion_matrix(validation_generator.classes, predicted_classes)"
      ],
      "metadata": {
        "id": "QbOWscBURXEj"
      },
      "execution_count": null,
      "outputs": []
    },
    {
      "cell_type": "code",
      "source": [
        "print(cm)"
      ],
      "metadata": {
        "id": "xsejipGpRr9D"
      },
      "execution_count": null,
      "outputs": []
    },
    {
      "cell_type": "code",
      "source": [
        "import seaborn as sn\n",
        "\n",
        "plt.figure(figsize=(5,5))\n",
        "sn.heatmap(cm, annot=True)"
      ],
      "metadata": {
        "colab": {
          "base_uri": "https://localhost:8080/",
          "height": 462
        },
        "id": "xTYmhmriRsvz",
        "outputId": "5620249b-0aad-4cdb-aae6-7eacef11d3a8"
      },
      "execution_count": null,
      "outputs": [
        {
          "output_type": "execute_result",
          "data": {
            "text/plain": [
              "<Axes: >"
            ]
          },
          "metadata": {},
          "execution_count": 63
        },
        {
          "output_type": "display_data",
          "data": {
            "text/plain": [
              "<Figure size 500x500 with 2 Axes>"
            ],
            "image/png": "[encoded data removed]"
          },
          "metadata": {}
        }
      ]
    },
    {
      "cell_type": "code",
      "source": [
        "from sklearn.metrics import classification_report\n",
        "\n",
        "cr = classification_report(validation_generator.classes, predicted_classes)\n",
        "print(cr)"
      ],
      "metadata": {
        "id": "Z14JKoytSLT-"
      },
      "execution_count": null,
      "outputs": []
    }
  ],
  "metadata": {
    "accelerator": "GPU",
    "colab": {
      "provenance": []
    },
    "kernelspec": {
      "display_name": "Python 3",
      "name": "python3"
    },
    "language_info": {
      "name": "python"
    }
  },
  "nbformat": 4,
  "nbformat_minor": 0
}